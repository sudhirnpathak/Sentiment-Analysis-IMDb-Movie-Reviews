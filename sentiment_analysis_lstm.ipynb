{
 "cells": [
  {
   "cell_type": "markdown",
   "metadata": {},
   "source": [
    "# Sentiment Analysis using LSTM\n",
    "\n",
    "In the previous notebook, we built a classifier using logistic regression for sentiment analysis of IMDb movie reviews.\n",
    "<br>In this notebook, we build the classifier using a deep learning technique called recurrent neural network (RNN). \n",
    "<br>We implement RNN using long short term memory (lstm) architecture, and PyTorch framework."
   ]
  },
  {
   "cell_type": "code",
   "execution_count": 1,
   "metadata": {},
   "outputs": [
    {
     "name": "stderr",
     "output_type": "stream",
     "text": [
      "[nltk_data] Downloading package punkt to /Users/sudhir/nltk_data...\n",
      "[nltk_data]   Package punkt is already up-to-date!\n"
     ]
    }
   ],
   "source": [
    "import numpy as np\n",
    "import pandas as pd\n",
    "\n",
    "import matplotlib.pyplot as plt\n",
    "%matplotlib inline\n",
    "\n",
    "import nltk\n",
    "nltk.download('punkt')\n",
    "from nltk import word_tokenize\n",
    "\n",
    "from collections import Counter\n",
    "\n",
    "from sklearn.model_selection import train_test_split\n",
    "\n",
    "import torch\n",
    "import torch.nn as nn\n",
    "from torch.utils.data import DataLoader, TensorDataset"
   ]
  },
  {
   "cell_type": "markdown",
   "metadata": {},
   "source": [
    "## Text Preprocessing"
   ]
  },
  {
   "cell_type": "markdown",
   "metadata": {},
   "source": [
    "**Importing reviews**\n",
    "\n",
    "The dataset is discussed in detail in previous notebook. We have two lists, one for training, and other for testing, both consists of 25k reviews, first 12.5k reviews positive and rest 12.5k negative."
   ]
  },
  {
   "cell_type": "code",
   "execution_count": 2,
   "metadata": {},
   "outputs": [],
   "source": [
    "reviews_train_raw = []\n",
    "for line in open('./movie_data/full_train.txt', 'r'):\n",
    "    reviews_train_raw.append(line.strip())\n",
    "    \n",
    "reviews_test_raw = []\n",
    "for line in open('./movie_data/full_test.txt', 'r'):\n",
    "    reviews_test_raw.append(line.strip())\n",
    "    \n",
    "target = np.array([1 if i < 12500 else 0 for i in range(25000)])   "
   ]
  },
  {
   "cell_type": "markdown",
   "metadata": {},
   "source": [
    "**make sure to randomized it when training**"
   ]
  },
  {
   "cell_type": "markdown",
   "metadata": {},
   "source": [
    "**Basic text preprocessing**\n",
    "\n",
    "Two steps undertaken in this text preprocessing: (1) making all words lowercase, (2) removing everything except words from the reviews"
   ]
  },
  {
   "cell_type": "code",
   "execution_count": 3,
   "metadata": {},
   "outputs": [
    {
     "data": {
      "text/plain": [
       "'Bromwell High is a cartoon comedy. It ran at the same time as some other programs about school life, such as \"Teachers\". My 35 years in the teaching profession lead me to believe that Bromwell High\\'s satire is much closer to reality than is \"Teachers\". The scramble to survive financially, the insightful students who can see right through their pathetic teachers\\' pomp, the pettiness of the whole situation, all remind me of the schools I knew and their students. When I saw the episode in which a student repeatedly tried to burn down the school, I immediately recalled ......... at .......... High. A classic line: INSPECTOR: I\\'m here to sack one of your teachers. STUDENT: Welcome to Bromwell High. I expect that many adults of my age think that Bromwell High is far fetched. What a pity that it isn\\'t!'"
      ]
     },
     "execution_count": 3,
     "metadata": {},
     "output_type": "execute_result"
    }
   ],
   "source": [
    "reviews_train_raw[0]"
   ]
  },
  {
   "cell_type": "code",
   "execution_count": 4,
   "metadata": {},
   "outputs": [],
   "source": [
    "def text_preprocessing(corpus):\n",
    "    \n",
    "    review_preprocessed = []\n",
    "    \n",
    "    for review in corpus:\n",
    "        \n",
    "        preprocessed = ' '.join([word for word in word_tokenize(review.lower()) if word.isalpha()])\n",
    "        review_preprocessed.append(preprocessed)\n",
    "        \n",
    "    return review_preprocessed"
   ]
  },
  {
   "cell_type": "code",
   "execution_count": 5,
   "metadata": {},
   "outputs": [],
   "source": [
    "reviews_train = text_preprocessing(reviews_train_raw)\n",
    "#reviews_test = text_preprocessing(reviews_test_raw)"
   ]
  },
  {
   "cell_type": "code",
   "execution_count": 6,
   "metadata": {},
   "outputs": [
    {
     "data": {
      "text/plain": [
       "'bromwell high is a cartoon comedy it ran at the same time as some other programs about school life such as teachers my years in the teaching profession lead me to believe that bromwell high satire is much closer to reality than is teachers the scramble to survive financially the insightful students who can see right through their pathetic teachers pomp the pettiness of the whole situation all remind me of the schools i knew and their students when i saw the episode in which a student repeatedly tried to burn down the school i immediately recalled at high a classic line inspector i here to sack one of your teachers student welcome to bromwell high i expect that many adults of my age think that bromwell high is far fetched what a pity that it is'"
      ]
     },
     "execution_count": 6,
     "metadata": {},
     "output_type": "execute_result"
    }
   ],
   "source": [
    "reviews_train[0]"
   ]
  },
  {
   "cell_type": "markdown",
   "metadata": {},
   "source": [
    "**Mapping word to index**\n",
    "\n",
    "Now, we create a dictionary that maps words into integer indices, with the convention that most frequently occuring words are assigned lower indices."
   ]
  },
  {
   "cell_type": "code",
   "execution_count": 7,
   "metadata": {},
   "outputs": [],
   "source": [
    "reviews_combined = ' '.join(reviews_train)              # combining all reviews to get all words\n",
    "reviews_words = reviews_combined.split()\n",
    "\n",
    "word_counts = Counter(reviews_words)\n",
    "sorted_words = word_counts.most_common(len(reviews_words))\n",
    "\n",
    "vocab_to_index = {w: i+1 for i, (w, c) in enumerate(sorted_words)}"
   ]
  },
  {
   "cell_type": "markdown",
   "metadata": {},
   "source": [
    "In this mapping, we started our indexing from 1, as keep 0 reserved for the padding purpose. "
   ]
  },
  {
   "cell_type": "markdown",
   "metadata": {},
   "source": [
    "**What happens if a new word appears in test set:** What about replacing these words by zero (motivated by padding)"
   ]
  },
  {
   "cell_type": "code",
   "execution_count": 8,
   "metadata": {},
   "outputs": [],
   "source": [
    "def vocab_to_index_mapping(corpus, vocab_to_index):\n",
    "    \n",
    "    reviews_indexed = []\n",
    "    \n",
    "    for review in corpus:\n",
    "        \n",
    "        indexed = [vocab_to_index[word] for word in review.split()]\n",
    "        reviews_indexed.append(indexed)\n",
    "        \n",
    "    return reviews_indexed"
   ]
  },
  {
   "cell_type": "code",
   "execution_count": 9,
   "metadata": {},
   "outputs": [],
   "source": [
    "reviews_train_index = vocab_to_index_mapping(reviews_train, vocab_to_index)\n",
    "#reviews_test_index = vocab_to_index_mapping(reviews_test, vocab_to_index)"
   ]
  },
  {
   "cell_type": "markdown",
   "metadata": {},
   "source": [
    "**Making all reviews of same length**"
   ]
  },
  {
   "cell_type": "code",
   "execution_count": 10,
   "metadata": {},
   "outputs": [
    {
     "data": {
      "image/png": "[encoded data removed]",
      "text/plain": [
       "<Figure size 432x288 with 1 Axes>"
      ]
     },
     "metadata": {
      "needs_background": "light"
     },
     "output_type": "display_data"
    }
   ],
   "source": [
    "len_reviews = [len(review) for review in reviews_train_index]\n",
    "\n",
    "pd.Series(len_reviews).hist()\n",
    "plt.show()"
   ]
  },
  {
   "cell_type": "code",
   "execution_count": 11,
   "metadata": {},
   "outputs": [
    {
     "data": {
      "text/plain": [
       "count    25000.000000\n",
       "mean       229.809040\n",
       "std        170.707011\n",
       "min         10.000000\n",
       "25%        125.000000\n",
       "50%        172.000000\n",
       "75%        279.000000\n",
       "max       2454.000000\n",
       "dtype: float64"
      ]
     },
     "execution_count": 11,
     "metadata": {},
     "output_type": "execute_result"
    }
   ],
   "source": [
    "pd.Series(len_reviews).describe()"
   ]
  },
  {
   "cell_type": "markdown",
   "metadata": {},
   "source": [
    "To deal with both short and long reviews, we will pad or truncate all of our reviews to a specific length.\n",
    "<br> We define this length by sequence length, which is same as the number of time steps for LSTM layer."
   ]
  },
  {
   "cell_type": "code",
   "execution_count": 12,
   "metadata": {},
   "outputs": [],
   "source": [
    "def fixing_reviews_length(reviews_train_index, seq_length):\n",
    "    \n",
    "    modified_reviews = np.zeros((len(reviews_train_index), seq_length), dtype = int)\n",
    "    \n",
    "    for i, review in enumerate(reviews_train_index):\n",
    "        \n",
    "        len_review = len(review)\n",
    "        \n",
    "        if len_review <= seq_length:\n",
    "            pad_zeros = list(np.zeros(seq_length - len_review))\n",
    "            mod_review = pad_zeros + review\n",
    "        elif len_review > seq_length:\n",
    "            mod_review = review[0:seq_length]\n",
    "            \n",
    "        modified_reviews[i, :] = np.array(mod_review)\n",
    "        \n",
    "    print(modified_reviews.shape)\n",
    "    return modified_reviews"
   ]
  },
  {
   "cell_type": "code",
   "execution_count": 13,
   "metadata": {},
   "outputs": [
    {
     "name": "stdout",
     "output_type": "stream",
     "text": [
      "(25000, 10)\n"
     ]
    }
   ],
   "source": [
    "feature_reviews = fixing_reviews_length(reviews_train_index, 10)"
   ]
  },
  {
   "cell_type": "markdown",
   "metadata": {},
   "source": [
    "# Modelling"
   ]
  },
  {
   "cell_type": "markdown",
   "metadata": {},
   "source": [
    "First, let's split the data for training and validation"
   ]
  },
  {
   "cell_type": "code",
   "execution_count": 14,
   "metadata": {},
   "outputs": [],
   "source": [
    "X_train, X_val, y_train, y_val = train_test_split(feature_reviews, target, train_size = 0.8)"
   ]
  },
  {
   "cell_type": "markdown",
   "metadata": {},
   "source": [
    "**Dataloaders and Batching**"
   ]
  },
  {
   "cell_type": "code",
   "execution_count": 15,
   "metadata": {},
   "outputs": [],
   "source": [
    "train_data = TensorDataset(torch.from_numpy(X_train), torch.from_numpy(y_train))\n",
    "valid_data = TensorDataset(torch.from_numpy(X_val), torch.from_numpy(y_val))\n",
    "\n",
    "batch_size = 50\n",
    "\n",
    "train_loader = DataLoader(train_data, shuffle = True, batch_size = batch_size)\n",
    "valid_loader = DataLoader(valid_data, shuffle = True, batch_size = batch_size)\n",
    "\n",
    "dataiter = iter(train_loader)\n",
    "sample_x, sample_y = dataiter.next()"
   ]
  },
  {
   "cell_type": "markdown",
   "metadata": {},
   "source": [
    "**Model Class**"
   ]
  },
  {
   "cell_type": "code",
   "execution_count": 16,
   "metadata": {},
   "outputs": [],
   "source": [
    "class SentimentLSTM(nn.Module):\n",
    "    \n",
    "    def __init__(self, vocab_size, output_size, embedding_dim, hidden_dim, n_layers, drop_prob = 0.4):\n",
    "        \n",
    "        super().__init__()\n",
    "        \n",
    "        self.output_size = output_size\n",
    "        self.n_layers = n_layers\n",
    "        self.hidden_dim = hidden_dim\n",
    "        \n",
    "        self.embedding = nn.Embedding(vocab_size, embedding_dim)\n",
    "        self.lstm = nn.LSTM(embedding_dim, hidden_dim, n_layers, dropout = drop_prob, batch_first = True)\n",
    "        \n",
    "        self.dropout = nn.Dropout(0.3)\n",
    "        \n",
    "        self.fc = nn.Linear(hidden_dim, output_size)\n",
    "        self.sig = nn.Sigmoid()\n",
    "        \n",
    "    def forward(self, x, hidden):\n",
    "        \n",
    "        batch_size = x.size(0)\n",
    "        \n",
    "        embeds = self.embedding(x)\n",
    "        lstm_out, hidden = self.lstm(embeds, hidden)\n",
    "        \n",
    "        lstm_out = lstm_out.contiguous().view(-1, self.hidden_dim)\n",
    "        \n",
    "        out = self.dropout(lstm_out)\n",
    "        out = self.fc(out)\n",
    "        sig_out = self.sig(out)\n",
    "        \n",
    "        sig_out = sig_out.view(batch_size, -1)\n",
    "        sig_out = sig_out[:, -1]\n",
    "        \n",
    "        return sig_out, hidden\n",
    "    \n",
    "    def init_hidden(self, batch_size):\n",
    "        \n",
    "        weight = next(self.parameters()).data\n",
    "        hidden = (weight.new(self.n_layers, batch_size, self.hidden_dim).zero_(),\n",
    "                  weight.new(self.n_layers, batch_size, self.hidden_dim).zero_())\n",
    "        \n",
    "        return hidden "
   ]
  },
  {
   "cell_type": "markdown",
   "metadata": {},
   "source": [
    "**Training**"
   ]
  },
  {
   "cell_type": "code",
   "execution_count": 17,
   "metadata": {},
   "outputs": [
    {
     "name": "stderr",
     "output_type": "stream",
     "text": [
      "/opt/anaconda3/lib/python3.7/site-packages/ipykernel_launcher.py:39: UserWarning: torch.nn.utils.clip_grad_norm is now deprecated in favor of torch.nn.utils.clip_grad_norm_.\n"
     ]
    },
    {
     "name": "stdout",
     "output_type": "stream",
     "text": [
      "Epoch: 1/5... Step: 100... Loss: 0.614757... Val Loss: 0.672089\n",
      "Epoch: 1/5... Step: 200... Loss: 0.671380... Val Loss: 0.640673\n",
      "Epoch: 1/5... Step: 300... Loss: 0.615121... Val Loss: 0.635738\n",
      "Epoch: 1/5... Step: 400... Loss: 0.599936... Val Loss: 0.614623\n",
      "Epoch: 2/5... Step: 500... Loss: 0.624500... Val Loss: 0.631806\n",
      "Epoch: 2/5... Step: 600... Loss: 0.557410... Val Loss: 0.619600\n",
      "Epoch: 2/5... Step: 700... Loss: 0.634037... Val Loss: 0.612871\n",
      "Epoch: 2/5... Step: 800... Loss: 0.468270... Val Loss: 0.621490\n",
      "Epoch: 3/5... Step: 900... Loss: 0.360182... Val Loss: 0.688868\n",
      "Epoch: 3/5... Step: 1000... Loss: 0.344023... Val Loss: 0.715709\n",
      "Epoch: 3/5... Step: 1100... Loss: 0.408765... Val Loss: 0.670742\n",
      "Epoch: 3/5... Step: 1200... Loss: 0.473866... Val Loss: 0.673126\n",
      "Epoch: 4/5... Step: 1300... Loss: 0.157129... Val Loss: 0.848432\n",
      "Epoch: 4/5... Step: 1400... Loss: 0.298984... Val Loss: 0.793761\n",
      "Epoch: 4/5... Step: 1500... Loss: 0.256450... Val Loss: 0.858997\n",
      "Epoch: 4/5... Step: 1600... Loss: 0.402286... Val Loss: 0.857028\n",
      "Epoch: 5/5... Step: 1700... Loss: 0.107542... Val Loss: 1.199089\n",
      "Epoch: 5/5... Step: 1800... Loss: 0.167591... Val Loss: 1.120152\n",
      "Epoch: 5/5... Step: 1900... Loss: 0.064031... Val Loss: 1.082741\n",
      "Epoch: 5/5... Step: 2000... Loss: 0.273447... Val Loss: 1.128550\n"
     ]
    }
   ],
   "source": [
    "vocab_size = len(vocab_to_index) + 1\n",
    "output_size = 1\n",
    "embedding_dim = 400\n",
    "hidden_dim = 256\n",
    "n_layers = 2\n",
    "\n",
    "net = SentimentLSTM(vocab_size, output_size, embedding_dim, hidden_dim, n_layers)\n",
    "\n",
    "lr = 0.001\n",
    "\n",
    "criterion = nn.BCELoss()\n",
    "optimizer = torch.optim.Adam(net.parameters(), lr = lr)\n",
    "\n",
    "epochs = 5\n",
    "counter = 0\n",
    "print_every = 100\n",
    "clip = 5                  # gradient clipping\n",
    "\n",
    "net.train()\n",
    "\n",
    "for e in range(epochs):\n",
    "    \n",
    "    h = net.init_hidden(batch_size)\n",
    "    \n",
    "    for inputs, labels in train_loader:\n",
    "        \n",
    "        counter += 1\n",
    "        \n",
    "        h = tuple([each.data for each in h])\n",
    "        \n",
    "        net.zero_grad()\n",
    "        \n",
    "        inputs = inputs.type(torch.LongTensor)\n",
    "        output, h = net(inputs, h)\n",
    "        \n",
    "        loss = criterion(output.squeeze(), labels.float())\n",
    "        loss.backward()\n",
    "        \n",
    "        nn.utils.clip_grad_norm(net.parameters(), clip)\n",
    "        optimizer.step()\n",
    "        \n",
    "        if counter % print_every == 0:\n",
    "            \n",
    "            val_h = net.init_hidden(batch_size)\n",
    "            val_losses = []\n",
    "            net.eval()\n",
    "            \n",
    "            for inputs, labels in valid_loader:\n",
    "                \n",
    "                val_h = tuple([each.data for each in val_h])\n",
    "                \n",
    "                inputs = inputs.type(torch.LongTensor)\n",
    "                output, val_h = net(inputs, val_h)\n",
    "                val_loss = criterion(output.squeeze(), labels.float())\n",
    "                \n",
    "                val_losses.append(val_loss.item())\n",
    "                \n",
    "            net.train()\n",
    "            print(\"Epoch: {}/{}...\".format(e+1, epochs),\n",
    "                  \"Step: {}...\".format(counter),\n",
    "                  \"Loss: {:.6f}...\".format(loss.item()),\n",
    "                  \"Val Loss: {:.6f}\".format(np.mean(val_losses)))"
   ]
  },
  {
   "cell_type": "code",
   "execution_count": null,
   "metadata": {},
   "outputs": [],
   "source": []
  }
 ],
 "metadata": {
  "kernelspec": {
   "display_name": "Python 3",
   "language": "python",
   "name": "python3"
  },
  "language_info": {
   "codemirror_mode": {
    "name": "ipython",
    "version": 3
   },
   "file_extension": ".py",
   "mimetype": "text/x-python",
   "name": "python",
   "nbconvert_exporter": "python",
   "pygments_lexer": "ipython3",
   "version": "3.7.4"
  }
 },
 "nbformat": 4,
 "nbformat_minor": 2
}
